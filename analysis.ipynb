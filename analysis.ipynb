{
 "cells": [
  {
   "cell_type": "code",
   "execution_count": 1,
   "metadata": {},
   "outputs": [],
   "source": [
    "import pandas as pd\n",
    "import os"
   ]
  },
  {
   "cell_type": "code",
   "execution_count": 3,
   "metadata": {},
   "outputs": [],
   "source": [
    "current_dir = os.getcwd()\n",
    "results = pd.read_csv(current_dir + '/results/results_MISA-dropout(0.6)-confidNet-dropout(0.6)-batchsize(1).csv')"
   ]
  },
  {
   "cell_type": "code",
   "execution_count": 4,
   "metadata": {},
   "outputs": [
    {
     "data": {
      "text/html": [
       "<div>\n",
       "<style scoped>\n",
       "    .dataframe tbody tr th:only-of-type {\n",
       "        vertical-align: middle;\n",
       "    }\n",
       "\n",
       "    .dataframe tbody tr th {\n",
       "        vertical-align: top;\n",
       "    }\n",
       "\n",
       "    .dataframe thead th {\n",
       "        text-align: right;\n",
       "    }\n",
       "</style>\n",
       "<table border=\"1\" class=\"dataframe\">\n",
       "  <thead>\n",
       "    <tr style=\"text-align: right;\">\n",
       "      <th></th>\n",
       "      <th>id</th>\n",
       "      <th>input_sentence</th>\n",
       "      <th>label</th>\n",
       "      <th>prediction</th>\n",
       "      <th>confidence</th>\n",
       "      <th>confidence-t</th>\n",
       "      <th>confidence-v</th>\n",
       "      <th>confidence-a</th>\n",
       "      <th>prediction-dynamic</th>\n",
       "    </tr>\n",
       "  </thead>\n",
       "  <tbody>\n",
       "    <tr>\n",
       "      <th>0</th>\n",
       "      <td>-6rXp3zJ3kc[0]</td>\n",
       "      <td>future and it's a retirement future that can u...</td>\n",
       "      <td>[0. 1. 1. 0. 0. 0.]</td>\n",
       "      <td>[1. 0. 0. 0. 0. 0.]</td>\n",
       "      <td>0.453761</td>\n",
       "      <td>0.507505</td>\n",
       "      <td>0.429722</td>\n",
       "      <td>0.561407</td>\n",
       "      <td>[1. 0. 0. 0. 0. 0.]</td>\n",
       "    </tr>\n",
       "    <tr>\n",
       "      <th>1</th>\n",
       "      <td>-6rXp3zJ3kc[1]</td>\n",
       "      <td>very aware of many people are not until they g...</td>\n",
       "      <td>[0. 1. 0. 0. 0. 0.]</td>\n",
       "      <td>[1. 0. 0. 0. 0. 0.]</td>\n",
       "      <td>0.458457</td>\n",
       "      <td>0.456182</td>\n",
       "      <td>0.376265</td>\n",
       "      <td>0.515415</td>\n",
       "      <td>[1. 0. 0. 0. 0. 0.]</td>\n",
       "    </tr>\n",
       "    <tr>\n",
       "      <th>2</th>\n",
       "      <td>-6rXp3zJ3kc[2]</td>\n",
       "      <td>so the answer to the question can i contribute...</td>\n",
       "      <td>[0. 1. 0. 0. 0. 0.]</td>\n",
       "      <td>[0. 1. 0. 0. 0. 1.]</td>\n",
       "      <td>0.460459</td>\n",
       "      <td>0.356298</td>\n",
       "      <td>0.543060</td>\n",
       "      <td>0.545472</td>\n",
       "      <td>[0. 1. 0. 0. 0. 1.]</td>\n",
       "    </tr>\n",
       "    <tr>\n",
       "      <th>3</th>\n",
       "      <td>-9y-fZ3swSY[0]</td>\n",
       "      <td>is you can say hey i really like baby skin the...</td>\n",
       "      <td>[1. 0. 0. 0. 0. 0.]</td>\n",
       "      <td>[1. 0. 0. 0. 0. 0.]</td>\n",
       "      <td>0.453955</td>\n",
       "      <td>0.562239</td>\n",
       "      <td>0.041045</td>\n",
       "      <td>0.446001</td>\n",
       "      <td>[1. 0. 0. 0. 0. 0.]</td>\n",
       "    </tr>\n",
       "    <tr>\n",
       "      <th>4</th>\n",
       "      <td>-9y-fZ3swSY[1]</td>\n",
       "      <td>face so nice by giving a good example and not ...</td>\n",
       "      <td>[1. 0. 0. 0. 0. 0.]</td>\n",
       "      <td>[0. 0. 1. 0. 1. 0.]</td>\n",
       "      <td>0.466694</td>\n",
       "      <td>0.454384</td>\n",
       "      <td>0.380977</td>\n",
       "      <td>0.554066</td>\n",
       "      <td>[0. 0. 1. 0. 0. 0.]</td>\n",
       "    </tr>\n",
       "  </tbody>\n",
       "</table>\n",
       "</div>"
      ],
      "text/plain": [
       "               id                                     input_sentence  \\\n",
       "0  -6rXp3zJ3kc[0]  future and it's a retirement future that can u...   \n",
       "1  -6rXp3zJ3kc[1]  very aware of many people are not until they g...   \n",
       "2  -6rXp3zJ3kc[2]  so the answer to the question can i contribute...   \n",
       "3  -9y-fZ3swSY[0]  is you can say hey i really like baby skin the...   \n",
       "4  -9y-fZ3swSY[1]  face so nice by giving a good example and not ...   \n",
       "\n",
       "                 label           prediction  confidence  confidence-t  \\\n",
       "0  [0. 1. 1. 0. 0. 0.]  [1. 0. 0. 0. 0. 0.]    0.453761      0.507505   \n",
       "1  [0. 1. 0. 0. 0. 0.]  [1. 0. 0. 0. 0. 0.]    0.458457      0.456182   \n",
       "2  [0. 1. 0. 0. 0. 0.]  [0. 1. 0. 0. 0. 1.]    0.460459      0.356298   \n",
       "3  [1. 0. 0. 0. 0. 0.]  [1. 0. 0. 0. 0. 0.]    0.453955      0.562239   \n",
       "4  [1. 0. 0. 0. 0. 0.]  [0. 0. 1. 0. 1. 0.]    0.466694      0.454384   \n",
       "\n",
       "   confidence-v  confidence-a   prediction-dynamic  \n",
       "0      0.429722      0.561407  [1. 0. 0. 0. 0. 0.]  \n",
       "1      0.376265      0.515415  [1. 0. 0. 0. 0. 0.]  \n",
       "2      0.543060      0.545472  [0. 1. 0. 0. 0. 1.]  \n",
       "3      0.041045      0.446001  [1. 0. 0. 0. 0. 0.]  \n",
       "4      0.380977      0.554066  [0. 0. 1. 0. 0. 0.]  "
      ]
     },
     "execution_count": 4,
     "metadata": {},
     "output_type": "execute_result"
    }
   ],
   "source": [
    "'''MISA-ConfidNet results\n",
    "columns\n",
    "    id: id of the video\n",
    "    input_sentence: actual text input\n",
    "    label: ground truth label list\n",
    "    prediction: predicted label list\n",
    "    confidence: confidence of the prediction\n",
    "    confidence-t: confience while removing the text modality\n",
    "    confidence-a: confience while removing the audio modality\n",
    "    confidence-v: confience while removing the video modality\n",
    "labels\n",
    "    0: happiness\n",
    "    1: sadness\n",
    "    2: anger\n",
    "    3: fear\n",
    "    4: disgust\n",
    "    5: surprise\n",
    "'''\n",
    "results.head()"
   ]
  },
  {
   "cell_type": "code",
   "execution_count": 5,
   "metadata": {},
   "outputs": [],
   "source": [
    "text_is_noise = results[results['confidence-t'] > results['confidence']]\n",
    "audio_is_noise = results[results['confidence-a'] > results['confidence']]\n",
    "video_is_noise = results[results['confidence-v'] > results['confidence']]"
   ]
  },
  {
   "cell_type": "code",
   "execution_count": 6,
   "metadata": {},
   "outputs": [
    {
     "name": "stdout",
     "output_type": "stream",
     "text": [
      "Total counts:  4654\n",
      "Textual noise counts:  2694\n",
      "Visual noise counts:  2032\n",
      "Audio noise counts:  2655\n"
     ]
    }
   ],
   "source": [
    "# Modality noise counts\n",
    "print(\"Total counts: \", results.shape[0])\n",
    "print(\"Textual noise counts: \", text_is_noise.shape[0])\n",
    "print(\"Visual noise counts: \", video_is_noise.shape[0])\n",
    "print(\"Audio noise counts: \", audio_is_noise.shape[0])"
   ]
  },
  {
   "cell_type": "code",
   "execution_count": 7,
   "metadata": {},
   "outputs": [
    {
     "data": {
      "text/plain": [
       "701"
      ]
     },
     "execution_count": 7,
     "metadata": {},
     "output_type": "execute_result"
    }
   ],
   "source": [
    "results['label'].loc[lambda x: x =='[0. 0. 0. 0. 0. 0.]'].count()"
   ]
  },
  {
   "cell_type": "code",
   "execution_count": 8,
   "metadata": {},
   "outputs": [
    {
     "name": "stdout",
     "output_type": "stream",
     "text": [
      "3953\n"
     ]
    }
   ],
   "source": [
    "# Drop the rows with no label\n",
    "results = results[results['label'] != '[0. 0. 0. 0. 0. 0.]']\n",
    "print(results.shape[0])"
   ]
  },
  {
   "cell_type": "code",
   "execution_count": 9,
   "metadata": {},
   "outputs": [],
   "source": [
    "text_is_noise = results[results['confidence-t'] > results['confidence']]\n",
    "audio_is_noise = results[results['confidence-a'] > results['confidence']]\n",
    "video_is_noise = results[results['confidence-v'] > results['confidence']]"
   ]
  },
  {
   "cell_type": "code",
   "execution_count": 10,
   "metadata": {},
   "outputs": [
    {
     "name": "stdout",
     "output_type": "stream",
     "text": [
      "Total counts:  3953\n",
      "Textual noise counts:  2277\n",
      "Visual noise counts:  1690\n",
      "Audio noise counts:  2267\n"
     ]
    }
   ],
   "source": [
    "# Modality noise counts with no label rows dropped\n",
    "print(\"Total counts: \", results.shape[0])\n",
    "print(\"Textual noise counts: \", text_is_noise.shape[0])\n",
    "print(\"Visual noise counts: \", video_is_noise.shape[0])\n",
    "print(\"Audio noise counts: \", audio_is_noise.shape[0])"
   ]
  },
  {
   "cell_type": "code",
   "execution_count": null,
   "metadata": {},
   "outputs": [],
   "source": []
  }
 ],
 "metadata": {
  "kernelspec": {
   "display_name": "mm",
   "language": "python",
   "name": "python3"
  },
  "language_info": {
   "codemirror_mode": {
    "name": "ipython",
    "version": 3
   },
   "file_extension": ".py",
   "mimetype": "text/x-python",
   "name": "python",
   "nbconvert_exporter": "python",
   "pygments_lexer": "ipython3",
   "version": "3.10.9"
  },
  "orig_nbformat": 4,
  "vscode": {
   "interpreter": {
    "hash": "bf7c25984d08a8baf6da04c4ea9b2f8034b141ee51bfd18af4c1817b5f3daff7"
   }
  }
 },
 "nbformat": 4,
 "nbformat_minor": 2
}
