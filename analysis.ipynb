{
 "cells": [
  {
   "cell_type": "code",
   "execution_count": 4,
   "metadata": {},
   "outputs": [],
   "source": [
    "import pandas as pd\n",
    "import os"
   ]
  },
  {
   "cell_type": "code",
   "execution_count": 5,
   "metadata": {},
   "outputs": [],
   "source": [
    "current_dir = os.getcwd()\n",
    "results = pd.read_csv(current_dir + '/results.csv')"
   ]
  },
  {
   "cell_type": "code",
   "execution_count": 6,
   "metadata": {},
   "outputs": [
    {
     "data": {
      "text/html": [
       "<div>\n",
       "<style scoped>\n",
       "    .dataframe tbody tr th:only-of-type {\n",
       "        vertical-align: middle;\n",
       "    }\n",
       "\n",
       "    .dataframe tbody tr th {\n",
       "        vertical-align: top;\n",
       "    }\n",
       "\n",
       "    .dataframe thead th {\n",
       "        text-align: right;\n",
       "    }\n",
       "</style>\n",
       "<table border=\"1\" class=\"dataframe\">\n",
       "  <thead>\n",
       "    <tr style=\"text-align: right;\">\n",
       "      <th></th>\n",
       "      <th>id</th>\n",
       "      <th>input_sentence</th>\n",
       "      <th>label</th>\n",
       "      <th>prediction</th>\n",
       "      <th>confidence</th>\n",
       "      <th>confidence-t</th>\n",
       "      <th>confidence-v</th>\n",
       "      <th>confidence-a</th>\n",
       "    </tr>\n",
       "  </thead>\n",
       "  <tbody>\n",
       "    <tr>\n",
       "      <th>0</th>\n",
       "      <td>-6rXp3zJ3kc[0]</td>\n",
       "      <td>future and it's a retirement future that can u...</td>\n",
       "      <td>[0. 1. 1. 0. 0. 0.]</td>\n",
       "      <td>[1. 1. 0. 0. 0. 0.]</td>\n",
       "      <td>0.284847</td>\n",
       "      <td>0.185451</td>\n",
       "      <td>-1.661398</td>\n",
       "      <td>0.315847</td>\n",
       "    </tr>\n",
       "    <tr>\n",
       "      <th>1</th>\n",
       "      <td>-6rXp3zJ3kc[1]</td>\n",
       "      <td>very aware of many people are not until they g...</td>\n",
       "      <td>[0. 1. 0. 0. 0. 0.]</td>\n",
       "      <td>[1. 1. 1. 0. 0. 0.]</td>\n",
       "      <td>0.280548</td>\n",
       "      <td>0.161487</td>\n",
       "      <td>-1.413134</td>\n",
       "      <td>0.311320</td>\n",
       "    </tr>\n",
       "    <tr>\n",
       "      <th>2</th>\n",
       "      <td>-6rXp3zJ3kc[2]</td>\n",
       "      <td>so the answer to the question can i contribute...</td>\n",
       "      <td>[0. 1. 0. 0. 0. 0.]</td>\n",
       "      <td>[0. 1. 0. 0. 0. 1.]</td>\n",
       "      <td>0.323583</td>\n",
       "      <td>0.216484</td>\n",
       "      <td>5.152101</td>\n",
       "      <td>-0.177674</td>\n",
       "    </tr>\n",
       "    <tr>\n",
       "      <th>3</th>\n",
       "      <td>-9y-fZ3swSY[0]</td>\n",
       "      <td>is you can say hey i really like baby skin the...</td>\n",
       "      <td>[1. 0. 0. 0. 0. 0.]</td>\n",
       "      <td>[1. 0. 0. 0. 0. 0.]</td>\n",
       "      <td>0.277032</td>\n",
       "      <td>0.242510</td>\n",
       "      <td>0.247198</td>\n",
       "      <td>0.265411</td>\n",
       "    </tr>\n",
       "    <tr>\n",
       "      <th>4</th>\n",
       "      <td>-9y-fZ3swSY[1]</td>\n",
       "      <td>face so nice by giving a good example and not ...</td>\n",
       "      <td>[1. 0. 0. 0. 0. 0.]</td>\n",
       "      <td>[1. 0. 1. 0. 1. 0.]</td>\n",
       "      <td>0.302093</td>\n",
       "      <td>0.215045</td>\n",
       "      <td>0.315789</td>\n",
       "      <td>0.360302</td>\n",
       "    </tr>\n",
       "  </tbody>\n",
       "</table>\n",
       "</div>"
      ],
      "text/plain": [
       "               id                                     input_sentence  \\\n",
       "0  -6rXp3zJ3kc[0]  future and it's a retirement future that can u...   \n",
       "1  -6rXp3zJ3kc[1]  very aware of many people are not until they g...   \n",
       "2  -6rXp3zJ3kc[2]  so the answer to the question can i contribute...   \n",
       "3  -9y-fZ3swSY[0]  is you can say hey i really like baby skin the...   \n",
       "4  -9y-fZ3swSY[1]  face so nice by giving a good example and not ...   \n",
       "\n",
       "                 label           prediction  confidence  confidence-t  \\\n",
       "0  [0. 1. 1. 0. 0. 0.]  [1. 1. 0. 0. 0. 0.]    0.284847      0.185451   \n",
       "1  [0. 1. 0. 0. 0. 0.]  [1. 1. 1. 0. 0. 0.]    0.280548      0.161487   \n",
       "2  [0. 1. 0. 0. 0. 0.]  [0. 1. 0. 0. 0. 1.]    0.323583      0.216484   \n",
       "3  [1. 0. 0. 0. 0. 0.]  [1. 0. 0. 0. 0. 0.]    0.277032      0.242510   \n",
       "4  [1. 0. 0. 0. 0. 0.]  [1. 0. 1. 0. 1. 0.]    0.302093      0.215045   \n",
       "\n",
       "   confidence-v  confidence-a  \n",
       "0     -1.661398      0.315847  \n",
       "1     -1.413134      0.311320  \n",
       "2      5.152101     -0.177674  \n",
       "3      0.247198      0.265411  \n",
       "4      0.315789      0.360302  "
      ]
     },
     "execution_count": 6,
     "metadata": {},
     "output_type": "execute_result"
    }
   ],
   "source": [
    "'''MISA-ConfidNet results\n",
    "columns\n",
    "    id: id of the video\n",
    "    input_sentence: actual text input\n",
    "    label: ground truth label list\n",
    "    prediction: predicted label list\n",
    "    confidence: confidence of the prediction\n",
    "    confidence-t: confience while removing the text modality\n",
    "    confidence-a: confience while removing the audio modality\n",
    "    confidence-v: confience while removing the video modality\n",
    "labels\n",
    "    0: happiness\n",
    "    1: sadness\n",
    "    2: anger\n",
    "    3: fear\n",
    "    4: disgust\n",
    "    5: surprise\n",
    "'''\n",
    "results.head()"
   ]
  },
  {
   "cell_type": "code",
   "execution_count": 11,
   "metadata": {},
   "outputs": [],
   "source": [
    "text_is_noise = results[results['confidence-t'] > results['confidence']]\n",
    "audio_is_noise = results[results['confidence-a'] > results['confidence']]\n",
    "video_is_noise = results[results['confidence-v'] > results['confidence']]"
   ]
  },
  {
   "cell_type": "code",
   "execution_count": 14,
   "metadata": {},
   "outputs": [
    {
     "name": "stdout",
     "output_type": "stream",
     "text": [
      "Total counts:  4654\n",
      "Textual noise counts:  113\n",
      "Visual noise counts:  1958\n",
      "Audio noise counts:  2080\n"
     ]
    }
   ],
   "source": [
    "print(\"Total counts: \", results.shape[0])\n",
    "print(\"Textual noise counts: \", text_is_noise.shape[0])\n",
    "print(\"Visual noise counts: \", video_is_noise.shape[0])\n",
    "print(\"Audio noise counts: \", audio_is_noise.shape[0])"
   ]
  },
  {
   "cell_type": "code",
   "execution_count": null,
   "metadata": {},
   "outputs": [],
   "source": []
  }
 ],
 "metadata": {
  "kernelspec": {
   "display_name": "mm",
   "language": "python",
   "name": "python3"
  },
  "language_info": {
   "codemirror_mode": {
    "name": "ipython",
    "version": 3
   },
   "file_extension": ".py",
   "mimetype": "text/x-python",
   "name": "python",
   "nbconvert_exporter": "python",
   "pygments_lexer": "ipython3",
   "version": "3.10.9"
  },
  "orig_nbformat": 4,
  "vscode": {
   "interpreter": {
    "hash": "bf7c25984d08a8baf6da04c4ea9b2f8034b141ee51bfd18af4c1817b5f3daff7"
   }
  }
 },
 "nbformat": 4,
 "nbformat_minor": 2
}
