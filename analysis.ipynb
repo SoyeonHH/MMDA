{
 "cells": [
  {
   "cell_type": "code",
   "execution_count": 1,
   "metadata": {},
   "outputs": [],
   "source": [
    "import pandas as pd\n",
    "import os"
   ]
  },
  {
   "cell_type": "code",
   "execution_count": 34,
   "metadata": {},
   "outputs": [],
   "source": [
    "current_dir = os.getcwd()\n",
    "results = pd.read_csv(current_dir + '/results_dropout(0.6)-confidNet-scaled-dropout(0.6)-batchsize(32).csv')"
   ]
  },
  {
   "cell_type": "code",
   "execution_count": 35,
   "metadata": {},
   "outputs": [
    {
     "data": {
      "text/html": [
       "<div>\n",
       "<style scoped>\n",
       "    .dataframe tbody tr th:only-of-type {\n",
       "        vertical-align: middle;\n",
       "    }\n",
       "\n",
       "    .dataframe tbody tr th {\n",
       "        vertical-align: top;\n",
       "    }\n",
       "\n",
       "    .dataframe thead th {\n",
       "        text-align: right;\n",
       "    }\n",
       "</style>\n",
       "<table border=\"1\" class=\"dataframe\">\n",
       "  <thead>\n",
       "    <tr style=\"text-align: right;\">\n",
       "      <th></th>\n",
       "      <th>id</th>\n",
       "      <th>input_sentence</th>\n",
       "      <th>label</th>\n",
       "      <th>prediction</th>\n",
       "      <th>confidence</th>\n",
       "      <th>confidence-t</th>\n",
       "      <th>confidence-v</th>\n",
       "      <th>confidence-a</th>\n",
       "      <th>prediction-dynamic</th>\n",
       "    </tr>\n",
       "  </thead>\n",
       "  <tbody>\n",
       "    <tr>\n",
       "      <th>0</th>\n",
       "      <td>-6rXp3zJ3kc[0]</td>\n",
       "      <td>future and it's a retirement future that can u...</td>\n",
       "      <td>[0. 1. 1. 0. 0. 0.]</td>\n",
       "      <td>[1. 0. 0. 0. 0. 0.]</td>\n",
       "      <td>0.477915</td>\n",
       "      <td>0.462046</td>\n",
       "      <td>0.567937</td>\n",
       "      <td>0.447845</td>\n",
       "      <td>[1. 0. 0. 0. 0. 0.]</td>\n",
       "    </tr>\n",
       "    <tr>\n",
       "      <th>1</th>\n",
       "      <td>-6rXp3zJ3kc[1]</td>\n",
       "      <td>very aware of many people are not until they g...</td>\n",
       "      <td>[0. 1. 0. 0. 0. 0.]</td>\n",
       "      <td>[1. 0. 0. 1. 0. 0.]</td>\n",
       "      <td>0.477771</td>\n",
       "      <td>0.330803</td>\n",
       "      <td>0.666457</td>\n",
       "      <td>0.439057</td>\n",
       "      <td>[1. 0. 0. 1. 0. 0.]</td>\n",
       "    </tr>\n",
       "    <tr>\n",
       "      <th>2</th>\n",
       "      <td>-6rXp3zJ3kc[2]</td>\n",
       "      <td>so the answer to the question can i contribute...</td>\n",
       "      <td>[0. 1. 0. 0. 0. 0.]</td>\n",
       "      <td>[0. 1. 1. 0. 0. 0.]</td>\n",
       "      <td>0.488666</td>\n",
       "      <td>0.542764</td>\n",
       "      <td>0.539348</td>\n",
       "      <td>0.351203</td>\n",
       "      <td>[0. 1. 1. 0. 0. 0.]</td>\n",
       "    </tr>\n",
       "    <tr>\n",
       "      <th>3</th>\n",
       "      <td>-9y-fZ3swSY[0]</td>\n",
       "      <td>is you can say hey i really like baby skin the...</td>\n",
       "      <td>[1. 0. 0. 0. 0. 0.]</td>\n",
       "      <td>[1. 0. 0. 0. 0. 0.]</td>\n",
       "      <td>0.472802</td>\n",
       "      <td>0.447487</td>\n",
       "      <td>0.931348</td>\n",
       "      <td>0.422179</td>\n",
       "      <td>[1. 0. 0. 0. 0. 0.]</td>\n",
       "    </tr>\n",
       "    <tr>\n",
       "      <th>4</th>\n",
       "      <td>-9y-fZ3swSY[1]</td>\n",
       "      <td>face so nice by giving a good example and not ...</td>\n",
       "      <td>[1. 0. 0. 0. 0. 0.]</td>\n",
       "      <td>[1. 0. 1. 1. 0. 0.]</td>\n",
       "      <td>0.478402</td>\n",
       "      <td>0.455495</td>\n",
       "      <td>0.543655</td>\n",
       "      <td>0.650362</td>\n",
       "      <td>[1. 0. 1. 0. 0. 0.]</td>\n",
       "    </tr>\n",
       "  </tbody>\n",
       "</table>\n",
       "</div>"
      ],
      "text/plain": [
       "               id                                     input_sentence  \\\n",
       "0  -6rXp3zJ3kc[0]  future and it's a retirement future that can u...   \n",
       "1  -6rXp3zJ3kc[1]  very aware of many people are not until they g...   \n",
       "2  -6rXp3zJ3kc[2]  so the answer to the question can i contribute...   \n",
       "3  -9y-fZ3swSY[0]  is you can say hey i really like baby skin the...   \n",
       "4  -9y-fZ3swSY[1]  face so nice by giving a good example and not ...   \n",
       "\n",
       "                 label           prediction  confidence  confidence-t  \\\n",
       "0  [0. 1. 1. 0. 0. 0.]  [1. 0. 0. 0. 0. 0.]    0.477915      0.462046   \n",
       "1  [0. 1. 0. 0. 0. 0.]  [1. 0. 0. 1. 0. 0.]    0.477771      0.330803   \n",
       "2  [0. 1. 0. 0. 0. 0.]  [0. 1. 1. 0. 0. 0.]    0.488666      0.542764   \n",
       "3  [1. 0. 0. 0. 0. 0.]  [1. 0. 0. 0. 0. 0.]    0.472802      0.447487   \n",
       "4  [1. 0. 0. 0. 0. 0.]  [1. 0. 1. 1. 0. 0.]    0.478402      0.455495   \n",
       "\n",
       "   confidence-v  confidence-a   prediction-dynamic  \n",
       "0      0.567937      0.447845  [1. 0. 0. 0. 0. 0.]  \n",
       "1      0.666457      0.439057  [1. 0. 0. 1. 0. 0.]  \n",
       "2      0.539348      0.351203  [0. 1. 1. 0. 0. 0.]  \n",
       "3      0.931348      0.422179  [1. 0. 0. 0. 0. 0.]  \n",
       "4      0.543655      0.650362  [1. 0. 1. 0. 0. 0.]  "
      ]
     },
     "execution_count": 35,
     "metadata": {},
     "output_type": "execute_result"
    }
   ],
   "source": [
    "'''MISA-ConfidNet results\n",
    "columns\n",
    "    id: id of the video\n",
    "    input_sentence: actual text input\n",
    "    label: ground truth label list\n",
    "    prediction: predicted label list\n",
    "    confidence: confidence of the prediction\n",
    "    confidence-t: confience while removing the text modality\n",
    "    confidence-a: confience while removing the audio modality\n",
    "    confidence-v: confience while removing the video modality\n",
    "labels\n",
    "    0: happiness\n",
    "    1: sadness\n",
    "    2: anger\n",
    "    3: fear\n",
    "    4: disgust\n",
    "    5: surprise\n",
    "'''\n",
    "results.head()"
   ]
  },
  {
   "cell_type": "code",
   "execution_count": null,
   "metadata": {},
   "outputs": [],
   "source": [
    "text_is_noise = results[results['confidence-t'] > results['confidence']]\n",
    "audio_is_noise = results[results['confidence-a'] > results['confidence']]\n",
    "video_is_noise = results[results['confidence-v'] > results['confidence']]"
   ]
  },
  {
   "cell_type": "code",
   "execution_count": null,
   "metadata": {},
   "outputs": [],
   "source": [
    "# Modality noise counts\n",
    "print(\"Total counts: \", results.shape[0])\n",
    "print(\"Textual noise counts: \", text_is_noise.shape[0])\n",
    "print(\"Visual noise counts: \", video_is_noise.shape[0])\n",
    "print(\"Audio noise counts: \", audio_is_noise.shape[0])"
   ]
  },
  {
   "cell_type": "code",
   "execution_count": 36,
   "metadata": {},
   "outputs": [
    {
     "data": {
      "text/plain": [
       "701"
      ]
     },
     "execution_count": 36,
     "metadata": {},
     "output_type": "execute_result"
    }
   ],
   "source": [
    "results['label'].loc[lambda x: x =='[0. 0. 0. 0. 0. 0.]'].count()"
   ]
  },
  {
   "cell_type": "code",
   "execution_count": 38,
   "metadata": {},
   "outputs": [
    {
     "name": "stdout",
     "output_type": "stream",
     "text": [
      "3953\n"
     ]
    }
   ],
   "source": [
    "# Drop the rows with no label\n",
    "results = results[results['label'] != '[0. 0. 0. 0. 0. 0.]']\n",
    "print(results.shape[0])"
   ]
  },
  {
   "cell_type": "code",
   "execution_count": 39,
   "metadata": {},
   "outputs": [],
   "source": [
    "text_is_noise = results[results['confidence-t'] > results['confidence']]\n",
    "audio_is_noise = results[results['confidence-a'] > results['confidence']]\n",
    "video_is_noise = results[results['confidence-v'] > results['confidence']]"
   ]
  },
  {
   "cell_type": "code",
   "execution_count": 40,
   "metadata": {},
   "outputs": [
    {
     "name": "stdout",
     "output_type": "stream",
     "text": [
      "Total counts:  3953\n",
      "Textual noise counts:  2525\n",
      "Visual noise counts:  2954\n",
      "Audio noise counts:  2081\n"
     ]
    }
   ],
   "source": [
    "# Modality noise counts with no label rows dropped\n",
    "print(\"Total counts: \", results.shape[0])\n",
    "print(\"Textual noise counts: \", text_is_noise.shape[0])\n",
    "print(\"Visual noise counts: \", video_is_noise.shape[0])\n",
    "print(\"Audio noise counts: \", audio_is_noise.shape[0])"
   ]
  },
  {
   "cell_type": "code",
   "execution_count": null,
   "metadata": {},
   "outputs": [],
   "source": []
  }
 ],
 "metadata": {
  "kernelspec": {
   "display_name": "mm",
   "language": "python",
   "name": "python3"
  },
  "language_info": {
   "codemirror_mode": {
    "name": "ipython",
    "version": 3
   },
   "file_extension": ".py",
   "mimetype": "text/x-python",
   "name": "python",
   "nbconvert_exporter": "python",
   "pygments_lexer": "ipython3",
   "version": "3.10.9"
  },
  "orig_nbformat": 4,
  "vscode": {
   "interpreter": {
    "hash": "bf7c25984d08a8baf6da04c4ea9b2f8034b141ee51bfd18af4c1817b5f3daff7"
   }
  }
 },
 "nbformat": 4,
 "nbformat_minor": 2
}
