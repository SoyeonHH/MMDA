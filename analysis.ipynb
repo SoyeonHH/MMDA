{
 "cells": [
  {
   "cell_type": "code",
   "execution_count": 11,
   "metadata": {},
   "outputs": [],
   "source": [
    "import pandas as pd\n",
    "import matplotlib\n",
    "import matplotlib.pyplot as plt\n",
    "import numpy as np\n",
    "import os\n",
    "import json"
   ]
  },
  {
   "cell_type": "code",
   "execution_count": 9,
   "metadata": {},
   "outputs": [],
   "source": [
    "current_dir = os.getcwd()\n",
    "results = pd.read_csv(current_dir + '/MISA/results_mosei_MISA_dropout(0.6)-batchsize(32).csv')"
   ]
  },
  {
   "cell_type": "code",
   "execution_count": 14,
   "metadata": {},
   "outputs": [
    {
     "data": {
      "text/plain": [
       "{'loss': 2.9492771723499036,\n",
       " 'accuracy': 0.416,\n",
       " 'precision': 0.4169984420979747,\n",
       " 'recall': 0.7614983404457089,\n",
       " 'f1': 0.538896034897377,\n",
       " 'acc_va': 0.3238,\n",
       " 'acc_ta': 0.4084,\n",
       " 'acc_tv': 0.4057,\n",
       " 'acc_t': 0.4284,\n",
       " 'acc_v': 0.2507,\n",
       " 'acc_a': 0.2711}"
      ]
     },
     "execution_count": 14,
     "metadata": {},
     "output_type": "execute_result"
    }
   ],
   "source": [
    "results_json = current_dir + '/MISA/results_MISA_baseline_dropout(0.6)-batchsize(32)_epoch(10).json'\n",
    "with open(results_json) as f:\n",
    "    results_dict = json.load(f)\n",
    "\n",
    "results_dict"
   ]
  },
  {
   "cell_type": "code",
   "execution_count": 15,
   "metadata": {},
   "outputs": [
    {
     "data": {
      "text/html": [
       "<div>\n",
       "<style scoped>\n",
       "    .dataframe tbody tr th:only-of-type {\n",
       "        vertical-align: middle;\n",
       "    }\n",
       "\n",
       "    .dataframe tbody tr th {\n",
       "        vertical-align: top;\n",
       "    }\n",
       "\n",
       "    .dataframe thead th {\n",
       "        text-align: right;\n",
       "    }\n",
       "</style>\n",
       "<table border=\"1\" class=\"dataframe\">\n",
       "  <thead>\n",
       "    <tr style=\"text-align: right;\">\n",
       "      <th></th>\n",
       "      <th>id</th>\n",
       "      <th>input_sentence</th>\n",
       "      <th>label</th>\n",
       "      <th>prediction</th>\n",
       "      <th>predicted_scores</th>\n",
       "      <th>tcp_TVA</th>\n",
       "      <th>tcp_AV</th>\n",
       "      <th>tcp_TA</th>\n",
       "      <th>tcp_TV</th>\n",
       "      <th>tcp_T</th>\n",
       "      <th>tcp_V</th>\n",
       "      <th>tcp_A</th>\n",
       "    </tr>\n",
       "  </thead>\n",
       "  <tbody>\n",
       "    <tr>\n",
       "      <th>0</th>\n",
       "      <td>-6rXp3zJ3kc[1]</td>\n",
       "      <td>very aware of many people are not until they g...</td>\n",
       "      <td>[0. 1. 0. 0. 0. 0.]</td>\n",
       "      <td>[1. 1. 1. 0. 0. 0.]</td>\n",
       "      <td>[0.4516461  0.46656027 0.38578466 0.33558005 0...</td>\n",
       "      <td>0.466560</td>\n",
       "      <td>0.433204</td>\n",
       "      <td>0.472289</td>\n",
       "      <td>0.434720</td>\n",
       "      <td>0.422204</td>\n",
       "      <td>0.457258</td>\n",
       "      <td>0.399891</td>\n",
       "    </tr>\n",
       "    <tr>\n",
       "      <th>1</th>\n",
       "      <td>-AUZQgSxyPQ[0]</td>\n",
       "      <td>the perfect soul mate to the spot therapy brus...</td>\n",
       "      <td>[0. 0. 0. 0. 0. 1.]</td>\n",
       "      <td>[1. 0. 0. 0. 0. 0.]</td>\n",
       "      <td>[0.64966536 0.3337268  0.24920052 0.2128066  0...</td>\n",
       "      <td>0.253617</td>\n",
       "      <td>0.327510</td>\n",
       "      <td>0.285556</td>\n",
       "      <td>0.226512</td>\n",
       "      <td>0.292095</td>\n",
       "      <td>0.366067</td>\n",
       "      <td>0.248023</td>\n",
       "    </tr>\n",
       "    <tr>\n",
       "      <th>2</th>\n",
       "      <td>-6rXp3zJ3kc[2]</td>\n",
       "      <td>so the answer to the question can i contribute...</td>\n",
       "      <td>[0. 1. 0. 0. 0. 0.]</td>\n",
       "      <td>[1. 1. 1. 0. 0. 0.]</td>\n",
       "      <td>[0.44839808 0.3952209  0.36040866 0.25261754 0...</td>\n",
       "      <td>0.395221</td>\n",
       "      <td>0.439653</td>\n",
       "      <td>0.389881</td>\n",
       "      <td>0.362032</td>\n",
       "      <td>0.430737</td>\n",
       "      <td>0.453138</td>\n",
       "      <td>0.327815</td>\n",
       "    </tr>\n",
       "    <tr>\n",
       "      <th>3</th>\n",
       "      <td>-MeTTeMJBNc[3]</td>\n",
       "      <td>picture maybe you could find a picture of the ...</td>\n",
       "      <td>[1. 0. 0. 1. 0. 0.]</td>\n",
       "      <td>[1. 1. 0. 0. 0. 0.]</td>\n",
       "      <td>[0.50492644 0.40333834 0.32755247 0.29555866 0...</td>\n",
       "      <td>0.400243</td>\n",
       "      <td>0.345079</td>\n",
       "      <td>0.417042</td>\n",
       "      <td>0.379987</td>\n",
       "      <td>0.290894</td>\n",
       "      <td>0.339653</td>\n",
       "      <td>0.383099</td>\n",
       "    </tr>\n",
       "    <tr>\n",
       "      <th>4</th>\n",
       "      <td>-RfYyzHpjk4[3]</td>\n",
       "      <td>time you can use it for personal use family fr...</td>\n",
       "      <td>[1. 0. 1. 0. 1. 0.]</td>\n",
       "      <td>[1. 0. 0. 0. 0. 0.]</td>\n",
       "      <td>[0.5898261  0.30789584 0.24227029 0.1855425  0...</td>\n",
       "      <td>0.315820</td>\n",
       "      <td>0.318744</td>\n",
       "      <td>0.333613</td>\n",
       "      <td>0.314372</td>\n",
       "      <td>0.323015</td>\n",
       "      <td>0.333642</td>\n",
       "      <td>0.335239</td>\n",
       "    </tr>\n",
       "  </tbody>\n",
       "</table>\n",
       "</div>"
      ],
      "text/plain": [
       "               id                                     input_sentence  \\\n",
       "0  -6rXp3zJ3kc[1]  very aware of many people are not until they g...   \n",
       "1  -AUZQgSxyPQ[0]  the perfect soul mate to the spot therapy brus...   \n",
       "2  -6rXp3zJ3kc[2]  so the answer to the question can i contribute...   \n",
       "3  -MeTTeMJBNc[3]  picture maybe you could find a picture of the ...   \n",
       "4  -RfYyzHpjk4[3]  time you can use it for personal use family fr...   \n",
       "\n",
       "                 label           prediction  \\\n",
       "0  [0. 1. 0. 0. 0. 0.]  [1. 1. 1. 0. 0. 0.]   \n",
       "1  [0. 0. 0. 0. 0. 1.]  [1. 0. 0. 0. 0. 0.]   \n",
       "2  [0. 1. 0. 0. 0. 0.]  [1. 1. 1. 0. 0. 0.]   \n",
       "3  [1. 0. 0. 1. 0. 0.]  [1. 1. 0. 0. 0. 0.]   \n",
       "4  [1. 0. 1. 0. 1. 0.]  [1. 0. 0. 0. 0. 0.]   \n",
       "\n",
       "                                    predicted_scores   tcp_TVA    tcp_AV  \\\n",
       "0  [0.4516461  0.46656027 0.38578466 0.33558005 0...  0.466560  0.433204   \n",
       "1  [0.64966536 0.3337268  0.24920052 0.2128066  0...  0.253617  0.327510   \n",
       "2  [0.44839808 0.3952209  0.36040866 0.25261754 0...  0.395221  0.439653   \n",
       "3  [0.50492644 0.40333834 0.32755247 0.29555866 0...  0.400243  0.345079   \n",
       "4  [0.5898261  0.30789584 0.24227029 0.1855425  0...  0.315820  0.318744   \n",
       "\n",
       "     tcp_TA    tcp_TV     tcp_T     tcp_V     tcp_A  \n",
       "0  0.472289  0.434720  0.422204  0.457258  0.399891  \n",
       "1  0.285556  0.226512  0.292095  0.366067  0.248023  \n",
       "2  0.389881  0.362032  0.430737  0.453138  0.327815  \n",
       "3  0.417042  0.379987  0.290894  0.339653  0.383099  \n",
       "4  0.333613  0.314372  0.323015  0.333642  0.335239  "
      ]
     },
     "execution_count": 15,
     "metadata": {},
     "output_type": "execute_result"
    }
   ],
   "source": [
    "'''confidNet results\n",
    "labels: ['happiness', 'sadness', 'anger', 'fear', 'disgust', 'surprise']\n",
    "'''\n",
    "results.head()"
   ]
  },
  {
   "cell_type": "code",
   "execution_count": 16,
   "metadata": {},
   "outputs": [
    {
     "name": "stdout",
     "output_type": "stream",
     "text": [
      "4654\n"
     ]
    }
   ],
   "source": [
    "print(len(results))"
   ]
  },
  {
   "cell_type": "code",
   "execution_count": 18,
   "metadata": {},
   "outputs": [
    {
     "data": {
      "text/plain": [
       "701"
      ]
     },
     "execution_count": 18,
     "metadata": {},
     "output_type": "execute_result"
    }
   ],
   "source": [
    "results['label'].loc[lambda x: x =='[0. 0. 0. 0. 0. 0.]'].count()"
   ]
  },
  {
   "cell_type": "code",
   "execution_count": 19,
   "metadata": {},
   "outputs": [
    {
     "name": "stdout",
     "output_type": "stream",
     "text": [
      "3953\n"
     ]
    }
   ],
   "source": [
    "# Drop the rows with no label\n",
    "results = results[results['label'] != '[0. 0. 0. 0. 0. 0.]']\n",
    "print(results.shape[0])"
   ]
  },
  {
   "cell_type": "code",
   "execution_count": 23,
   "metadata": {},
   "outputs": [],
   "source": [
    "text_is_noise = results[results['tcp_AV'] > results['tcp_TVA']]\n",
    "audio_is_noise = results[results['tcp_TA'] > results['tcp_TVA']]\n",
    "video_is_noise = results[results['tcp_TV'] > results['tcp_TVA']]"
   ]
  },
  {
   "cell_type": "code",
   "execution_count": 24,
   "metadata": {},
   "outputs": [
    {
     "name": "stdout",
     "output_type": "stream",
     "text": [
      "Total counts:  3953\n",
      "Textual noise counts:  785\n",
      "Visual noise counts:  1187\n",
      "Audio noise counts:  3258\n"
     ]
    }
   ],
   "source": [
    "# Modality noise counts with no label rows dropped\n",
    "print(\"Total counts: \", results.shape[0])\n",
    "print(\"Textual noise counts: \", text_is_noise.shape[0])\n",
    "print(\"Visual noise counts: \", video_is_noise.shape[0])\n",
    "print(\"Audio noise counts: \", audio_is_noise.shape[0])"
   ]
  },
  {
   "cell_type": "code",
   "execution_count": 25,
   "metadata": {},
   "outputs": [
    {
     "data": {
      "image/png": "[encoded data removed]",
      "text/plain": [
       "<Figure size 640x480 with 1 Axes>"
      ]
     },
     "metadata": {},
     "output_type": "display_data"
    }
   ],
   "source": [
    "ax = results['tcp_TVA'].plot.hist(bins=20, alpha=0.5)"
   ]
  },
  {
   "cell_type": "code",
   "execution_count": 30,
   "metadata": {},
   "outputs": [
    {
     "data": {
      "image/png": "[encoded data removed]",
      "text/plain": [
       "<Figure size 640x480 with 1 Axes>"
      ]
     },
     "metadata": {},
     "output_type": "display_data"
    }
   ],
   "source": [
    "columns = ['T+V+A', 'T+A', 'T+V', 'V+A', 'T', 'V', 'A']\n",
    "X_axis = np.arange(len(columns))\n",
    "\n",
    "accuracy = [\n",
    "    results_dict['accuracy'], results_dict['acc_ta'], results_dict['acc_tv'], results_dict['acc_va'], results_dict['acc_t'], results_dict['acc_v'], results_dict['acc_a']\n",
    "]\n",
    "\n",
    "average_tcp = [\n",
    "    np.mean(results['tcp_TVA']), \n",
    "    np.mean(results['tcp_TA']), \n",
    "    np.mean(results['tcp_TV']), \n",
    "    np.mean(results['tcp_AV']), \n",
    "    np.mean(results['tcp_T']),\n",
    "    np.mean(results['tcp_V']), \n",
    "    np.mean(results['tcp_A'])\n",
    "]\n",
    "\n",
    "# histogram of the data\n",
    "plt.bar(X_axis - 0.2, accuracy, 0.4, label = 'Accuracy')\n",
    "plt.bar(X_axis + 0.2, average_tcp, 0.4, label = 'Averaged TCP')\n",
    "\n",
    "plt.xticks(X_axis, columns)\n",
    "plt.xlabel(\"Modality\")\n",
    "plt.title(\"MISA results on MOSEI dataset\")\n",
    "plt.legend()\n",
    "plt.show()"
   ]
  },
  {
   "cell_type": "code",
   "execution_count": null,
   "metadata": {},
   "outputs": [],
   "source": []
  }
 ],
 "metadata": {
  "kernelspec": {
   "display_name": "mm",
   "language": "python",
   "name": "python3"
  },
  "language_info": {
   "codemirror_mode": {
    "name": "ipython",
    "version": 3
   },
   "file_extension": ".py",
   "mimetype": "text/x-python",
   "name": "python",
   "nbconvert_exporter": "python",
   "pygments_lexer": "ipython3",
   "version": "3.10.9"
  },
  "orig_nbformat": 4,
  "vscode": {
   "interpreter": {
    "hash": "bf7c25984d08a8baf6da04c4ea9b2f8034b141ee51bfd18af4c1817b5f3daff7"
   }
  }
 },
 "nbformat": 4,
 "nbformat_minor": 2
}
