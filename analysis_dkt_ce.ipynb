{
 "cells": [
  {
   "cell_type": "code",
   "execution_count": 1,
   "metadata": {},
   "outputs": [],
   "source": [
    "import pandas as pd\n",
    "import matplotlib\n",
    "import matplotlib.pyplot as plt\n",
    "import numpy as np\n",
    "import os\n",
    "import json"
   ]
  },
  {
   "cell_type": "code",
   "execution_count": 4,
   "metadata": {},
   "outputs": [],
   "source": [
    "current_dir = os.getcwd()\n",
    "results = pd.read_csv(current_dir + '/results/results_mosei_MISA_Dynamic-ce(10000.0)_dropout(0.6)_batchsize(32)_epoch(40).csv')"
   ]
  },
  {
   "cell_type": "code",
   "execution_count": 5,
   "metadata": {},
   "outputs": [
    {
     "data": {
      "text/plain": [
       "{'loss': 2.9138125344498516,\n",
       " 'accuracy': 0.4243,\n",
       " 'precision': 0.42062549485352335,\n",
       " 'recall': 0.6717243559348822,\n",
       " 'f1': 0.5173148317205283,\n",
       " 'acc_va': 0.2828,\n",
       " 'acc_ta': 0.3894,\n",
       " 'acc_tv': 0.4087,\n",
       " 'acc_t': 0.3624,\n",
       " 'acc_v': 0.2828,\n",
       " 'acc_a': 0.2907}"
      ]
     },
     "execution_count": 5,
     "metadata": {},
     "output_type": "execute_result"
    }
   ],
   "source": [
    "results_json = current_dir + '/results/results_MISA_kt-Dynamic-ce(10000.0)-dropout(0.6)-batchsize(32).json'\n",
    "with open(results_json) as f:\n",
    "    results_dict = json.load(f)\n",
    "\n",
    "results_dict"
   ]
  },
  {
   "cell_type": "code",
   "execution_count": 6,
   "metadata": {},
   "outputs": [
    {
     "data": {
      "text/html": [
       "<div>\n",
       "<style scoped>\n",
       "    .dataframe tbody tr th:only-of-type {\n",
       "        vertical-align: middle;\n",
       "    }\n",
       "\n",
       "    .dataframe tbody tr th {\n",
       "        vertical-align: top;\n",
       "    }\n",
       "\n",
       "    .dataframe thead th {\n",
       "        text-align: right;\n",
       "    }\n",
       "</style>\n",
       "<table border=\"1\" class=\"dataframe\">\n",
       "  <thead>\n",
       "    <tr style=\"text-align: right;\">\n",
       "      <th></th>\n",
       "      <th>id</th>\n",
       "      <th>input_sentence</th>\n",
       "      <th>label</th>\n",
       "      <th>prediction</th>\n",
       "      <th>predicted_scores</th>\n",
       "      <th>pred_AV</th>\n",
       "      <th>pred_TA</th>\n",
       "      <th>pred_TV</th>\n",
       "      <th>pred_T</th>\n",
       "      <th>pred_V</th>\n",
       "      <th>pred_A</th>\n",
       "      <th>tcp_TVA</th>\n",
       "      <th>tcp_AV</th>\n",
       "      <th>tcp_TA</th>\n",
       "      <th>tcp_TV</th>\n",
       "      <th>tcp_T</th>\n",
       "      <th>tcp_V</th>\n",
       "      <th>tcp_A</th>\n",
       "    </tr>\n",
       "  </thead>\n",
       "  <tbody>\n",
       "    <tr>\n",
       "      <th>0</th>\n",
       "      <td>-6rXp3zJ3kc[1]</td>\n",
       "      <td>very aware of many people are not until they g...</td>\n",
       "      <td>[0. 1. 0. 0. 0. 0.]</td>\n",
       "      <td>[1. 0. 0. 0. 0. 0.]</td>\n",
       "      <td>[0.70523465 0.3298927  0.19005767 0.2850805  0...</td>\n",
       "      <td>[1. 1. 1. 0. 1. 0.]</td>\n",
       "      <td>[1. 0. 0. 0. 0. 1.]</td>\n",
       "      <td>[1. 0. 0. 1. 0. 0.]</td>\n",
       "      <td>[1. 0. 0. 1. 0. 1.]</td>\n",
       "      <td>[1. 1. 1. 0. 1. 0.]</td>\n",
       "      <td>[1. 0. 0. 0. 1. 0.]</td>\n",
       "      <td>0.329893</td>\n",
       "      <td>0.427974</td>\n",
       "      <td>0.293710</td>\n",
       "      <td>0.318558</td>\n",
       "      <td>0.271728</td>\n",
       "      <td>0.377689</td>\n",
       "      <td>0.320152</td>\n",
       "    </tr>\n",
       "    <tr>\n",
       "      <th>1</th>\n",
       "      <td>-AUZQgSxyPQ[0]</td>\n",
       "      <td>the perfect soul mate to the spot therapy brus...</td>\n",
       "      <td>[0. 0. 0. 0. 0. 1.]</td>\n",
       "      <td>[1. 0. 0. 0. 0. 0.]</td>\n",
       "      <td>[0.37752342 0.33566704 0.27220073 0.16573723 0...</td>\n",
       "      <td>[1. 1. 1. 0. 1. 0.]</td>\n",
       "      <td>[1. 0. 0. 0. 0. 0.]</td>\n",
       "      <td>[1. 0. 0. 0. 0. 0.]</td>\n",
       "      <td>[1. 0. 0. 0. 0. 0.]</td>\n",
       "      <td>[1. 1. 1. 0. 1. 0.]</td>\n",
       "      <td>[1. 0. 0. 0. 1. 0.]</td>\n",
       "      <td>0.218583</td>\n",
       "      <td>0.237551</td>\n",
       "      <td>0.288967</td>\n",
       "      <td>0.219513</td>\n",
       "      <td>0.268559</td>\n",
       "      <td>0.223945</td>\n",
       "      <td>0.285736</td>\n",
       "    </tr>\n",
       "    <tr>\n",
       "      <th>2</th>\n",
       "      <td>-6rXp3zJ3kc[2]</td>\n",
       "      <td>so the answer to the question can i contribute...</td>\n",
       "      <td>[0. 1. 0. 0. 0. 0.]</td>\n",
       "      <td>[0. 1. 0. 0. 0. 0.]</td>\n",
       "      <td>[0.34284344 0.37662137 0.3310514  0.17616265 0...</td>\n",
       "      <td>[1. 1. 1. 0. 1. 0.]</td>\n",
       "      <td>[0. 0. 0. 0. 0. 0.]</td>\n",
       "      <td>[1. 1. 0. 0. 0. 0.]</td>\n",
       "      <td>[1. 0. 0. 0. 0. 0.]</td>\n",
       "      <td>[1. 1. 1. 0. 1. 0.]</td>\n",
       "      <td>[1. 0. 0. 0. 1. 0.]</td>\n",
       "      <td>0.376621</td>\n",
       "      <td>0.425098</td>\n",
       "      <td>0.331969</td>\n",
       "      <td>0.353082</td>\n",
       "      <td>0.296773</td>\n",
       "      <td>0.372632</td>\n",
       "      <td>0.322102</td>\n",
       "    </tr>\n",
       "    <tr>\n",
       "      <th>3</th>\n",
       "      <td>-MeTTeMJBNc[3]</td>\n",
       "      <td>picture maybe you could find a picture of the ...</td>\n",
       "      <td>[1. 0. 0. 1. 0. 0.]</td>\n",
       "      <td>[1. 0. 0. 0. 0. 0.]</td>\n",
       "      <td>[0.6548937  0.2760348  0.26757243 0.3328851  0...</td>\n",
       "      <td>[1. 1. 1. 0. 1. 0.]</td>\n",
       "      <td>[1. 0. 0. 1. 0. 0.]</td>\n",
       "      <td>[1. 0. 0. 1. 0. 0.]</td>\n",
       "      <td>[1. 0. 0. 1. 0. 0.]</td>\n",
       "      <td>[1. 1. 1. 0. 1. 0.]</td>\n",
       "      <td>[1. 0. 0. 0. 1. 0.]</td>\n",
       "      <td>0.493889</td>\n",
       "      <td>0.425729</td>\n",
       "      <td>0.496724</td>\n",
       "      <td>0.535389</td>\n",
       "      <td>0.545746</td>\n",
       "      <td>0.473630</td>\n",
       "      <td>0.427293</td>\n",
       "    </tr>\n",
       "    <tr>\n",
       "      <th>4</th>\n",
       "      <td>-RfYyzHpjk4[3]</td>\n",
       "      <td>time you can use it for personal use family fr...</td>\n",
       "      <td>[1. 0. 1. 0. 1. 0.]</td>\n",
       "      <td>[1. 0. 0. 0. 0. 0.]</td>\n",
       "      <td>[0.62964994 0.28284627 0.15340966 0.16591562 0...</td>\n",
       "      <td>[1. 1. 1. 0. 1. 0.]</td>\n",
       "      <td>[1. 0. 0. 0. 0. 0.]</td>\n",
       "      <td>[1. 0. 0. 0. 0. 0.]</td>\n",
       "      <td>[1. 0. 0. 0. 0. 0.]</td>\n",
       "      <td>[1. 1. 1. 0. 1. 0.]</td>\n",
       "      <td>[1. 0. 0. 0. 1. 0.]</td>\n",
       "      <td>0.288619</td>\n",
       "      <td>0.530653</td>\n",
       "      <td>0.264239</td>\n",
       "      <td>0.301016</td>\n",
       "      <td>0.282208</td>\n",
       "      <td>0.526794</td>\n",
       "      <td>0.474316</td>\n",
       "    </tr>\n",
       "  </tbody>\n",
       "</table>\n",
       "</div>"
      ],
      "text/plain": [
       "               id                                     input_sentence  \\\n",
       "0  -6rXp3zJ3kc[1]  very aware of many people are not until they g...   \n",
       "1  -AUZQgSxyPQ[0]  the perfect soul mate to the spot therapy brus...   \n",
       "2  -6rXp3zJ3kc[2]  so the answer to the question can i contribute...   \n",
       "3  -MeTTeMJBNc[3]  picture maybe you could find a picture of the ...   \n",
       "4  -RfYyzHpjk4[3]  time you can use it for personal use family fr...   \n",
       "\n",
       "                 label           prediction  \\\n",
       "0  [0. 1. 0. 0. 0. 0.]  [1. 0. 0. 0. 0. 0.]   \n",
       "1  [0. 0. 0. 0. 0. 1.]  [1. 0. 0. 0. 0. 0.]   \n",
       "2  [0. 1. 0. 0. 0. 0.]  [0. 1. 0. 0. 0. 0.]   \n",
       "3  [1. 0. 0. 1. 0. 0.]  [1. 0. 0. 0. 0. 0.]   \n",
       "4  [1. 0. 1. 0. 1. 0.]  [1. 0. 0. 0. 0. 0.]   \n",
       "\n",
       "                                    predicted_scores              pred_AV  \\\n",
       "0  [0.70523465 0.3298927  0.19005767 0.2850805  0...  [1. 1. 1. 0. 1. 0.]   \n",
       "1  [0.37752342 0.33566704 0.27220073 0.16573723 0...  [1. 1. 1. 0. 1. 0.]   \n",
       "2  [0.34284344 0.37662137 0.3310514  0.17616265 0...  [1. 1. 1. 0. 1. 0.]   \n",
       "3  [0.6548937  0.2760348  0.26757243 0.3328851  0...  [1. 1. 1. 0. 1. 0.]   \n",
       "4  [0.62964994 0.28284627 0.15340966 0.16591562 0...  [1. 1. 1. 0. 1. 0.]   \n",
       "\n",
       "               pred_TA              pred_TV               pred_T  \\\n",
       "0  [1. 0. 0. 0. 0. 1.]  [1. 0. 0. 1. 0. 0.]  [1. 0. 0. 1. 0. 1.]   \n",
       "1  [1. 0. 0. 0. 0. 0.]  [1. 0. 0. 0. 0. 0.]  [1. 0. 0. 0. 0. 0.]   \n",
       "2  [0. 0. 0. 0. 0. 0.]  [1. 1. 0. 0. 0. 0.]  [1. 0. 0. 0. 0. 0.]   \n",
       "3  [1. 0. 0. 1. 0. 0.]  [1. 0. 0. 1. 0. 0.]  [1. 0. 0. 1. 0. 0.]   \n",
       "4  [1. 0. 0. 0. 0. 0.]  [1. 0. 0. 0. 0. 0.]  [1. 0. 0. 0. 0. 0.]   \n",
       "\n",
       "                pred_V               pred_A   tcp_TVA    tcp_AV    tcp_TA  \\\n",
       "0  [1. 1. 1. 0. 1. 0.]  [1. 0. 0. 0. 1. 0.]  0.329893  0.427974  0.293710   \n",
       "1  [1. 1. 1. 0. 1. 0.]  [1. 0. 0. 0. 1. 0.]  0.218583  0.237551  0.288967   \n",
       "2  [1. 1. 1. 0. 1. 0.]  [1. 0. 0. 0. 1. 0.]  0.376621  0.425098  0.331969   \n",
       "3  [1. 1. 1. 0. 1. 0.]  [1. 0. 0. 0. 1. 0.]  0.493889  0.425729  0.496724   \n",
       "4  [1. 1. 1. 0. 1. 0.]  [1. 0. 0. 0. 1. 0.]  0.288619  0.530653  0.264239   \n",
       "\n",
       "     tcp_TV     tcp_T     tcp_V     tcp_A  \n",
       "0  0.318558  0.271728  0.377689  0.320152  \n",
       "1  0.219513  0.268559  0.223945  0.285736  \n",
       "2  0.353082  0.296773  0.372632  0.322102  \n",
       "3  0.535389  0.545746  0.473630  0.427293  \n",
       "4  0.301016  0.282208  0.526794  0.474316  "
      ]
     },
     "execution_count": 6,
     "metadata": {},
     "output_type": "execute_result"
    }
   ],
   "source": [
    "'''confidNet results\n",
    "labels: ['happiness', 'sadness', 'anger', 'fear', 'disgust', 'surprise']\n",
    "'''\n",
    "results.head()"
   ]
  },
  {
   "cell_type": "code",
   "execution_count": 7,
   "metadata": {},
   "outputs": [
    {
     "name": "stdout",
     "output_type": "stream",
     "text": [
      "4654\n"
     ]
    }
   ],
   "source": [
    "print(len(results))"
   ]
  },
  {
   "cell_type": "code",
   "execution_count": 8,
   "metadata": {},
   "outputs": [
    {
     "data": {
      "text/plain": [
       "701"
      ]
     },
     "execution_count": 8,
     "metadata": {},
     "output_type": "execute_result"
    }
   ],
   "source": [
    "results['label'].loc[lambda x: x =='[0. 0. 0. 0. 0. 0.]'].count()"
   ]
  },
  {
   "cell_type": "code",
   "execution_count": 9,
   "metadata": {},
   "outputs": [
    {
     "name": "stdout",
     "output_type": "stream",
     "text": [
      "3953\n"
     ]
    }
   ],
   "source": [
    "# Drop the rows with no label\n",
    "results = results[results['label'] != '[0. 0. 0. 0. 0. 0.]']\n",
    "print(results.shape[0])"
   ]
  },
  {
   "cell_type": "code",
   "execution_count": 10,
   "metadata": {},
   "outputs": [],
   "source": [
    "baseline_incorrect_df = results[results['label'] != results['prediction']]"
   ]
  },
  {
   "cell_type": "code",
   "execution_count": 11,
   "metadata": {},
   "outputs": [
    {
     "name": "stdout",
     "output_type": "stream",
     "text": [
      "2925\n"
     ]
    }
   ],
   "source": [
    "print(len(baseline_incorrect_df))"
   ]
  },
  {
   "cell_type": "code",
   "execution_count": 12,
   "metadata": {},
   "outputs": [
    {
     "name": "stdout",
     "output_type": "stream",
     "text": [
      "Hit counts of T+V+A:  0.2600556539337212\n",
      "Hit counts of T+V:  0.22388059701492538\n",
      "Hit counts of T+A:  0.2185681760688085\n",
      "Hits counts of V+A:  0.004553503668100177\n",
      "Hit counts of T:  0.1601315456615229\n",
      "Hits counts of V:  0.004553503668100177\n",
      "Hits counts of A:  0.01543131798633949\n"
     ]
    }
   ],
   "source": [
    "# Complete hit ratio\n",
    "print(\"Hit counts of T+V+A: \", len(results[results['prediction'] == results['label']]) / len(results))\n",
    "print(\"Hit counts of T+V: \", len(results[results['pred_TV'] == results['label']]) / len(results))\n",
    "print(\"Hit counts of T+A: \", len(results[results['pred_TA'] == results['label']]) / len(results))\n",
    "print(\"Hits counts of V+A: \", len(results[results['pred_AV'] == results['label']]) / len(results))\n",
    "print(\"Hit counts of T: \", len(results[results['pred_T'] == results['label']]) / len(results))\n",
    "print(\"Hits counts of V: \", len(results[results['pred_V'] == results['label']]) / len(results))\n",
    "print(\"Hits counts of A: \", len(results[results['pred_A'] == results['label']]) / len(results))"
   ]
  },
  {
   "attachments": {},
   "cell_type": "markdown",
   "metadata": {},
   "source": [
    "## Static KT"
   ]
  },
  {
   "cell_type": "code",
   "execution_count": 32,
   "metadata": {},
   "outputs": [],
   "source": [
    "results_static = pd.read_csv(current_dir + '/results/results_mosei_MISA_Static(10000.0)_dropout(0.6)_batchsize(32)_epoch(40).csv')"
   ]
  },
  {
   "cell_type": "code",
   "execution_count": 33,
   "metadata": {},
   "outputs": [
    {
     "data": {
      "text/plain": [
       "{'loss': 2.9138125344498516,\n",
       " 'accuracy': 0.4243,\n",
       " 'precision': 0.42062549485352335,\n",
       " 'recall': 0.6717243559348822,\n",
       " 'f1': 0.5173148317205283,\n",
       " 'acc_va': 0.2828,\n",
       " 'acc_ta': 0.3894,\n",
       " 'acc_tv': 0.4087,\n",
       " 'acc_t': 0.3624,\n",
       " 'acc_v': 0.2828,\n",
       " 'acc_a': 0.2907}"
      ]
     },
     "execution_count": 33,
     "metadata": {},
     "output_type": "execute_result"
    }
   ],
   "source": [
    "results_json_static = current_dir + '/results/results_MISA_kt-Static(10000.0)-dropout(0.6)-batchsize(32).json'\n",
    "with open(results_json) as f:\n",
    "    results_dict = json.load(f)\n",
    "\n",
    "results_dict"
   ]
  },
  {
   "cell_type": "code",
   "execution_count": 34,
   "metadata": {},
   "outputs": [
    {
     "data": {
      "text/html": [
       "<div>\n",
       "<style scoped>\n",
       "    .dataframe tbody tr th:only-of-type {\n",
       "        vertical-align: middle;\n",
       "    }\n",
       "\n",
       "    .dataframe tbody tr th {\n",
       "        vertical-align: top;\n",
       "    }\n",
       "\n",
       "    .dataframe thead th {\n",
       "        text-align: right;\n",
       "    }\n",
       "</style>\n",
       "<table border=\"1\" class=\"dataframe\">\n",
       "  <thead>\n",
       "    <tr style=\"text-align: right;\">\n",
       "      <th></th>\n",
       "      <th>id</th>\n",
       "      <th>input_sentence</th>\n",
       "      <th>label</th>\n",
       "      <th>prediction</th>\n",
       "      <th>predicted_scores</th>\n",
       "      <th>pred_AV</th>\n",
       "      <th>pred_TA</th>\n",
       "      <th>pred_TV</th>\n",
       "      <th>pred_T</th>\n",
       "      <th>pred_V</th>\n",
       "      <th>pred_A</th>\n",
       "      <th>tcp_TVA</th>\n",
       "      <th>tcp_AV</th>\n",
       "      <th>tcp_TA</th>\n",
       "      <th>tcp_TV</th>\n",
       "      <th>tcp_T</th>\n",
       "      <th>tcp_V</th>\n",
       "      <th>tcp_A</th>\n",
       "    </tr>\n",
       "  </thead>\n",
       "  <tbody>\n",
       "    <tr>\n",
       "      <th>0</th>\n",
       "      <td>-6rXp3zJ3kc[1]</td>\n",
       "      <td>very aware of many people are not until they g...</td>\n",
       "      <td>[0. 1. 0. 0. 0. 0.]</td>\n",
       "      <td>[1. 1. 1. 0. 1. 0.]</td>\n",
       "      <td>[0.50223833 0.43722886 0.38821447 0.32718918 0...</td>\n",
       "      <td>[1. 1. 1. 0. 1. 0.]</td>\n",
       "      <td>[1. 1. 0. 0. 0. 0.]</td>\n",
       "      <td>[1. 1. 1. 1. 0. 0.]</td>\n",
       "      <td>[1. 1. 0. 1. 0. 0.]</td>\n",
       "      <td>[1. 1. 1. 0. 1. 0.]</td>\n",
       "      <td>[1. 1. 0. 0. 1. 0.]</td>\n",
       "      <td>0.437229</td>\n",
       "      <td>0.437381</td>\n",
       "      <td>0.450344</td>\n",
       "      <td>0.375865</td>\n",
       "      <td>0.365505</td>\n",
       "      <td>0.356620</td>\n",
       "      <td>0.401642</td>\n",
       "    </tr>\n",
       "    <tr>\n",
       "      <th>1</th>\n",
       "      <td>-AUZQgSxyPQ[0]</td>\n",
       "      <td>the perfect soul mate to the spot therapy brus...</td>\n",
       "      <td>[0. 0. 0. 0. 0. 1.]</td>\n",
       "      <td>[1. 0. 0. 0. 0. 0.]</td>\n",
       "      <td>[0.6623503  0.2976649  0.24782853 0.24608926 0...</td>\n",
       "      <td>[1. 1. 1. 0. 1. 0.]</td>\n",
       "      <td>[1. 0. 0. 0. 0. 0.]</td>\n",
       "      <td>[1. 0. 0. 0. 0. 0.]</td>\n",
       "      <td>[1. 0. 0. 0. 0. 0.]</td>\n",
       "      <td>[1. 1. 1. 0. 1. 0.]</td>\n",
       "      <td>[1. 1. 0. 0. 1. 0.]</td>\n",
       "      <td>0.264785</td>\n",
       "      <td>0.247402</td>\n",
       "      <td>0.273159</td>\n",
       "      <td>0.242921</td>\n",
       "      <td>0.208589</td>\n",
       "      <td>0.204765</td>\n",
       "      <td>0.226354</td>\n",
       "    </tr>\n",
       "    <tr>\n",
       "      <th>2</th>\n",
       "      <td>-6rXp3zJ3kc[2]</td>\n",
       "      <td>so the answer to the question can i contribute...</td>\n",
       "      <td>[0. 1. 0. 0. 0. 0.]</td>\n",
       "      <td>[1. 0. 0. 0. 0. 0.]</td>\n",
       "      <td>[0.56248707 0.3479732  0.34905666 0.23337291 0...</td>\n",
       "      <td>[1. 1. 1. 0. 1. 0.]</td>\n",
       "      <td>[1. 1. 0. 0. 0. 0.]</td>\n",
       "      <td>[1. 0. 0. 0. 0. 0.]</td>\n",
       "      <td>[1. 0. 0. 0. 0. 0.]</td>\n",
       "      <td>[1. 0. 1. 0. 1. 0.]</td>\n",
       "      <td>[1. 1. 0. 0. 1. 0.]</td>\n",
       "      <td>0.347973</td>\n",
       "      <td>0.444938</td>\n",
       "      <td>0.360299</td>\n",
       "      <td>0.279602</td>\n",
       "      <td>0.270932</td>\n",
       "      <td>0.348972</td>\n",
       "      <td>0.415753</td>\n",
       "    </tr>\n",
       "    <tr>\n",
       "      <th>3</th>\n",
       "      <td>-MeTTeMJBNc[3]</td>\n",
       "      <td>picture maybe you could find a picture of the ...</td>\n",
       "      <td>[1. 0. 0. 1. 0. 0.]</td>\n",
       "      <td>[1. 1. 0. 0. 0. 0.]</td>\n",
       "      <td>[0.5718305  0.36995146 0.31654248 0.29183748 0...</td>\n",
       "      <td>[1. 1. 1. 0. 1. 0.]</td>\n",
       "      <td>[1. 1. 0. 0. 0. 0.]</td>\n",
       "      <td>[1. 0. 0. 1. 0. 0.]</td>\n",
       "      <td>[1. 0. 0. 1. 0. 0.]</td>\n",
       "      <td>[1. 1. 1. 0. 1. 0.]</td>\n",
       "      <td>[1. 1. 0. 0. 1. 0.]</td>\n",
       "      <td>0.431834</td>\n",
       "      <td>0.420204</td>\n",
       "      <td>0.434605</td>\n",
       "      <td>0.460707</td>\n",
       "      <td>0.454311</td>\n",
       "      <td>0.439729</td>\n",
       "      <td>0.421804</td>\n",
       "    </tr>\n",
       "    <tr>\n",
       "      <th>4</th>\n",
       "      <td>-RfYyzHpjk4[3]</td>\n",
       "      <td>time you can use it for personal use family fr...</td>\n",
       "      <td>[1. 0. 1. 0. 1. 0.]</td>\n",
       "      <td>[1. 0. 0. 0. 0. 0.]</td>\n",
       "      <td>[0.6341324  0.327975   0.26538056 0.21374246 0...</td>\n",
       "      <td>[1. 1. 1. 0. 1. 0.]</td>\n",
       "      <td>[1. 0. 0. 0. 0. 0.]</td>\n",
       "      <td>[1. 0. 0. 0. 0. 0.]</td>\n",
       "      <td>[1. 0. 0. 0. 0. 0.]</td>\n",
       "      <td>[1. 1. 1. 0. 1. 0.]</td>\n",
       "      <td>[1. 1. 0. 0. 1. 0.]</td>\n",
       "      <td>0.355647</td>\n",
       "      <td>0.488008</td>\n",
       "      <td>0.330055</td>\n",
       "      <td>0.341506</td>\n",
       "      <td>0.307162</td>\n",
       "      <td>0.473502</td>\n",
       "      <td>0.466058</td>\n",
       "    </tr>\n",
       "  </tbody>\n",
       "</table>\n",
       "</div>"
      ],
      "text/plain": [
       "               id                                     input_sentence  \\\n",
       "0  -6rXp3zJ3kc[1]  very aware of many people are not until they g...   \n",
       "1  -AUZQgSxyPQ[0]  the perfect soul mate to the spot therapy brus...   \n",
       "2  -6rXp3zJ3kc[2]  so the answer to the question can i contribute...   \n",
       "3  -MeTTeMJBNc[3]  picture maybe you could find a picture of the ...   \n",
       "4  -RfYyzHpjk4[3]  time you can use it for personal use family fr...   \n",
       "\n",
       "                 label           prediction  \\\n",
       "0  [0. 1. 0. 0. 0. 0.]  [1. 1. 1. 0. 1. 0.]   \n",
       "1  [0. 0. 0. 0. 0. 1.]  [1. 0. 0. 0. 0. 0.]   \n",
       "2  [0. 1. 0. 0. 0. 0.]  [1. 0. 0. 0. 0. 0.]   \n",
       "3  [1. 0. 0. 1. 0. 0.]  [1. 1. 0. 0. 0. 0.]   \n",
       "4  [1. 0. 1. 0. 1. 0.]  [1. 0. 0. 0. 0. 0.]   \n",
       "\n",
       "                                    predicted_scores              pred_AV  \\\n",
       "0  [0.50223833 0.43722886 0.38821447 0.32718918 0...  [1. 1. 1. 0. 1. 0.]   \n",
       "1  [0.6623503  0.2976649  0.24782853 0.24608926 0...  [1. 1. 1. 0. 1. 0.]   \n",
       "2  [0.56248707 0.3479732  0.34905666 0.23337291 0...  [1. 1. 1. 0. 1. 0.]   \n",
       "3  [0.5718305  0.36995146 0.31654248 0.29183748 0...  [1. 1. 1. 0. 1. 0.]   \n",
       "4  [0.6341324  0.327975   0.26538056 0.21374246 0...  [1. 1. 1. 0. 1. 0.]   \n",
       "\n",
       "               pred_TA              pred_TV               pred_T  \\\n",
       "0  [1. 1. 0. 0. 0. 0.]  [1. 1. 1. 1. 0. 0.]  [1. 1. 0. 1. 0. 0.]   \n",
       "1  [1. 0. 0. 0. 0. 0.]  [1. 0. 0. 0. 0. 0.]  [1. 0. 0. 0. 0. 0.]   \n",
       "2  [1. 1. 0. 0. 0. 0.]  [1. 0. 0. 0. 0. 0.]  [1. 0. 0. 0. 0. 0.]   \n",
       "3  [1. 1. 0. 0. 0. 0.]  [1. 0. 0. 1. 0. 0.]  [1. 0. 0. 1. 0. 0.]   \n",
       "4  [1. 0. 0. 0. 0. 0.]  [1. 0. 0. 0. 0. 0.]  [1. 0. 0. 0. 0. 0.]   \n",
       "\n",
       "                pred_V               pred_A   tcp_TVA    tcp_AV    tcp_TA  \\\n",
       "0  [1. 1. 1. 0. 1. 0.]  [1. 1. 0. 0. 1. 0.]  0.437229  0.437381  0.450344   \n",
       "1  [1. 1. 1. 0. 1. 0.]  [1. 1. 0. 0. 1. 0.]  0.264785  0.247402  0.273159   \n",
       "2  [1. 0. 1. 0. 1. 0.]  [1. 1. 0. 0. 1. 0.]  0.347973  0.444938  0.360299   \n",
       "3  [1. 1. 1. 0. 1. 0.]  [1. 1. 0. 0. 1. 0.]  0.431834  0.420204  0.434605   \n",
       "4  [1. 1. 1. 0. 1. 0.]  [1. 1. 0. 0. 1. 0.]  0.355647  0.488008  0.330055   \n",
       "\n",
       "     tcp_TV     tcp_T     tcp_V     tcp_A  \n",
       "0  0.375865  0.365505  0.356620  0.401642  \n",
       "1  0.242921  0.208589  0.204765  0.226354  \n",
       "2  0.279602  0.270932  0.348972  0.415753  \n",
       "3  0.460707  0.454311  0.439729  0.421804  \n",
       "4  0.341506  0.307162  0.473502  0.466058  "
      ]
     },
     "execution_count": 34,
     "metadata": {},
     "output_type": "execute_result"
    }
   ],
   "source": [
    "'''confidNet results\n",
    "labels: ['happiness', 'sadness', 'anger', 'fear', 'disgust', 'surprise']\n",
    "'''\n",
    "results_static.head()"
   ]
  },
  {
   "cell_type": "code",
   "execution_count": 35,
   "metadata": {},
   "outputs": [
    {
     "name": "stdout",
     "output_type": "stream",
     "text": [
      "4654\n"
     ]
    }
   ],
   "source": [
    "print(len(results_static))"
   ]
  },
  {
   "cell_type": "code",
   "execution_count": 36,
   "metadata": {},
   "outputs": [
    {
     "name": "stdout",
     "output_type": "stream",
     "text": [
      "3953\n"
     ]
    }
   ],
   "source": [
    "results_static['label'].loc[lambda x: x =='[0. 0. 0. 0. 0. 0.]'].count()\n",
    "# Drop the rows with no label\n",
    "results_static = results_static[results_static['label'] != '[0. 0. 0. 0. 0. 0.]']\n",
    "print(results_static.shape[0])"
   ]
  },
  {
   "cell_type": "code",
   "execution_count": 41,
   "metadata": {},
   "outputs": [],
   "source": [
    "static_incorrect_df = results_static[results_static['label'] != results_static['prediction']]"
   ]
  },
  {
   "cell_type": "code",
   "execution_count": 42,
   "metadata": {},
   "outputs": [
    {
     "name": "stdout",
     "output_type": "stream",
     "text": [
      "3186\n"
     ]
    }
   ],
   "source": [
    "print(len(static_incorrect_df))"
   ]
  },
  {
   "cell_type": "code",
   "execution_count": 43,
   "metadata": {},
   "outputs": [
    {
     "name": "stdout",
     "output_type": "stream",
     "text": [
      "Hit counts of T+V+A:  0.19402985074626866\n",
      "Hit counts of T+V:  0.3053377181887174\n",
      "Hit counts of T+A:  0.15684290412345053\n",
      "Hits counts of V+A:  0.004553503668100177\n",
      "Hit counts of T:  0.311409056412851\n",
      "Hits counts of V:  0.004806476094105743\n",
      "Hits counts of A:  0.003794586390083481\n"
     ]
    }
   ],
   "source": [
    "# # Co# Complete hit ratio\n",
    "print(\"Hit counts of T+V+A: \", len(results_static[results_static['prediction'] == results_static['label']]) / len(results_static))\n",
    "print(\"Hit counts of T+V: \", len(results_static[results_static['pred_TV'] == results_static['label']]) / len(results_static))\n",
    "print(\"Hit counts of T+A: \", len(results_static[results_static['pred_TA'] == results_static['label']]) / len(results_static))\n",
    "print(\"Hits counts of V+A: \", len(results_static[results_static['pred_AV'] == results_static['label']]) / len(results_static))\n",
    "print(\"Hit counts of T: \", len(results_static[results_static['pred_T'] == results_static['label']]) / len(results_static))\n",
    "print(\"Hits counts of V: \", len(results_static[results_static['pred_V'] == results_static['label']]) / len(results_static))\n",
    "print(\"Hits counts of A: \", len(results_static[results_static['pred_A'] == results_static['label']]) / len(results_static))"
   ]
  },
  {
   "cell_type": "code",
   "execution_count": null,
   "metadata": {},
   "outputs": [],
   "source": []
  }
 ],
 "metadata": {
  "kernelspec": {
   "display_name": "mm",
   "language": "python",
   "name": "python3"
  },
  "language_info": {
   "codemirror_mode": {
    "name": "ipython",
    "version": 3
   },
   "file_extension": ".py",
   "mimetype": "text/x-python",
   "name": "python",
   "nbconvert_exporter": "python",
   "pygments_lexer": "ipython3",
   "version": "3.10.9"
  },
  "orig_nbformat": 4
 },
 "nbformat": 4,
 "nbformat_minor": 2
}
